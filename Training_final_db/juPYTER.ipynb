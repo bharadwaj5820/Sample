{
 "cells": [
  {
   "cell_type": "code",
   "execution_count": 1,
   "id": "38f7fe5b",
   "metadata": {},
   "outputs": [],
   "source": [
    "import pandas as pd\n",
    "import numpy as np\n",
    "import sklearn \n",
    "import matplotlib.pyplot as plt\n",
    "import seaborn as sns\n"
   ]
  },
  {
   "cell_type": "code",
   "execution_count": 2,
   "id": "9fdb768a",
   "metadata": {},
   "outputs": [
    {
     "data": {
      "text/plain": [
       "(219076, 9)"
      ]
     },
     "execution_count": 2,
     "metadata": {},
     "output_type": "execute_result"
    }
   ],
   "source": [
    "df=pd.read_csv(\"InputFile.csv\")\n",
    "\n",
    "df.head()\n",
    "df.shape"
   ]
  },
  {
   "cell_type": "code",
   "execution_count": 3,
   "id": "c272f714",
   "metadata": {},
   "outputs": [
    {
     "data": {
      "text/plain": [
       "Cement (component 1)(kg in a m^3 mixture)                0\n",
       "Blast Furnace Slag (component 2)(kg in a m^3 mixture)    0\n",
       "Fly Ash (component 3)(kg in a m^3 mixture)               0\n",
       "Water  (component 4)(kg in a m^3 mixture)                0\n",
       "Superplasticizer (component 5)(kg in a m^3 mixture)      0\n",
       "Coarse Aggregate  (component 6)(kg in a m^3 mixture)     0\n",
       "Fine Aggregate (component 7)(kg in a m^3 mixture)        0\n",
       "Age (day)                                                0\n",
       "Concrete compressive strength(MPa, megapascals)          0\n",
       "dtype: int64"
      ]
     },
     "execution_count": 3,
     "metadata": {},
     "output_type": "execute_result"
    }
   ],
   "source": [
    "df.isnull().sum()"
   ]
  },
  {
   "cell_type": "code",
   "execution_count": 4,
   "id": "8eafd7de",
   "metadata": {},
   "outputs": [],
   "source": [
    "df.rename(columns={\"Cement (component 1)(kg in a m^3 mixture)\":\"cement\",\"Blast Furnace Slag (component 2)(kg in a m^3 mixture)\":\"Blast Furnace slug\",\"Fly Ash (component 3)(kg in a m^3 mixture)\":\"Fly Ash\",\"Water  (component 4)(kg in a m^3 mixture)\":\"Water\",\"Superplasticizer (component 5)(kg in a m^3 mixture)\":\"Superplasticizer\",\"Coarse Aggregate  (component 6)(kg in a m^3 mixture)\":\"Coarse Aggregate\",\"Fine Aggregate (component 7)(kg in a m^3 mixture)\":\"Fine Aggregate\",\"Concrete compressive strength(MPa, megapascals) \":\"Concreate compressive strength\",\"Age (day)\":\"Age\"},inplace=True)"
   ]
  },
  {
   "cell_type": "code",
   "execution_count": 5,
   "id": "dfeff92a",
   "metadata": {},
   "outputs": [
    {
     "data": {
      "text/html": [
       "<div>\n",
       "<style scoped>\n",
       "    .dataframe tbody tr th:only-of-type {\n",
       "        vertical-align: middle;\n",
       "    }\n",
       "\n",
       "    .dataframe tbody tr th {\n",
       "        vertical-align: top;\n",
       "    }\n",
       "\n",
       "    .dataframe thead th {\n",
       "        text-align: right;\n",
       "    }\n",
       "</style>\n",
       "<table border=\"1\" class=\"dataframe\">\n",
       "  <thead>\n",
       "    <tr style=\"text-align: right;\">\n",
       "      <th></th>\n",
       "      <th>cement</th>\n",
       "      <th>Blast Furnace slug</th>\n",
       "      <th>Fly Ash</th>\n",
       "      <th>Water</th>\n",
       "      <th>Superplasticizer</th>\n",
       "      <th>Coarse Aggregate</th>\n",
       "      <th>Fine Aggregate</th>\n",
       "      <th>Age</th>\n",
       "      <th>Concreate compressive strength</th>\n",
       "    </tr>\n",
       "  </thead>\n",
       "  <tbody>\n",
       "    <tr>\n",
       "      <th>count</th>\n",
       "      <td>219076.000000</td>\n",
       "      <td>219076.000000</td>\n",
       "      <td>219076.00000</td>\n",
       "      <td>219076.000000</td>\n",
       "      <td>219076.000000</td>\n",
       "      <td>219076.000000</td>\n",
       "      <td>219076.000000</td>\n",
       "      <td>219076.000000</td>\n",
       "      <td>219076.000000</td>\n",
       "    </tr>\n",
       "    <tr>\n",
       "      <th>mean</th>\n",
       "      <td>281.179552</td>\n",
       "      <td>73.896836</td>\n",
       "      <td>54.18584</td>\n",
       "      <td>181.557099</td>\n",
       "      <td>6.205173</td>\n",
       "      <td>972.939020</td>\n",
       "      <td>773.605756</td>\n",
       "      <td>45.672383</td>\n",
       "      <td>35.822986</td>\n",
       "    </tr>\n",
       "    <tr>\n",
       "      <th>std</th>\n",
       "      <td>104.446664</td>\n",
       "      <td>86.239220</td>\n",
       "      <td>63.96187</td>\n",
       "      <td>21.349966</td>\n",
       "      <td>5.972026</td>\n",
       "      <td>77.695947</td>\n",
       "      <td>80.147218</td>\n",
       "      <td>63.155642</td>\n",
       "      <td>16.701170</td>\n",
       "    </tr>\n",
       "    <tr>\n",
       "      <th>min</th>\n",
       "      <td>102.000000</td>\n",
       "      <td>0.000000</td>\n",
       "      <td>0.00000</td>\n",
       "      <td>121.800000</td>\n",
       "      <td>0.000000</td>\n",
       "      <td>801.000000</td>\n",
       "      <td>594.000000</td>\n",
       "      <td>1.000000</td>\n",
       "      <td>2.330000</td>\n",
       "    </tr>\n",
       "    <tr>\n",
       "      <th>25%</th>\n",
       "      <td>192.000000</td>\n",
       "      <td>0.000000</td>\n",
       "      <td>0.00000</td>\n",
       "      <td>164.900000</td>\n",
       "      <td>0.000000</td>\n",
       "      <td>932.000000</td>\n",
       "      <td>730.400000</td>\n",
       "      <td>7.000000</td>\n",
       "      <td>23.700000</td>\n",
       "    </tr>\n",
       "    <tr>\n",
       "      <th>50%</th>\n",
       "      <td>272.800000</td>\n",
       "      <td>22.000000</td>\n",
       "      <td>0.00000</td>\n",
       "      <td>185.000000</td>\n",
       "      <td>6.400000</td>\n",
       "      <td>968.000000</td>\n",
       "      <td>779.700000</td>\n",
       "      <td>28.000000</td>\n",
       "      <td>34.490000</td>\n",
       "    </tr>\n",
       "    <tr>\n",
       "      <th>75%</th>\n",
       "      <td>350.000000</td>\n",
       "      <td>143.000000</td>\n",
       "      <td>118.30000</td>\n",
       "      <td>192.000000</td>\n",
       "      <td>10.200000</td>\n",
       "      <td>1029.400000</td>\n",
       "      <td>824.000000</td>\n",
       "      <td>56.000000</td>\n",
       "      <td>46.200000</td>\n",
       "    </tr>\n",
       "    <tr>\n",
       "      <th>max</th>\n",
       "      <td>540.000000</td>\n",
       "      <td>359.400000</td>\n",
       "      <td>200.10000</td>\n",
       "      <td>247.000000</td>\n",
       "      <td>32.200000</td>\n",
       "      <td>1145.000000</td>\n",
       "      <td>992.600000</td>\n",
       "      <td>365.000000</td>\n",
       "      <td>82.600000</td>\n",
       "    </tr>\n",
       "  </tbody>\n",
       "</table>\n",
       "</div>"
      ],
      "text/plain": [
       "              cement  Blast Furnace slug       Fly Ash          Water  \\\n",
       "count  219076.000000       219076.000000  219076.00000  219076.000000   \n",
       "mean      281.179552           73.896836      54.18584     181.557099   \n",
       "std       104.446664           86.239220      63.96187      21.349966   \n",
       "min       102.000000            0.000000       0.00000     121.800000   \n",
       "25%       192.000000            0.000000       0.00000     164.900000   \n",
       "50%       272.800000           22.000000       0.00000     185.000000   \n",
       "75%       350.000000          143.000000     118.30000     192.000000   \n",
       "max       540.000000          359.400000     200.10000     247.000000   \n",
       "\n",
       "       Superplasticizer  Coarse Aggregate  Fine Aggregate            Age  \\\n",
       "count     219076.000000     219076.000000   219076.000000  219076.000000   \n",
       "mean           6.205173        972.939020      773.605756      45.672383   \n",
       "std            5.972026         77.695947       80.147218      63.155642   \n",
       "min            0.000000        801.000000      594.000000       1.000000   \n",
       "25%            0.000000        932.000000      730.400000       7.000000   \n",
       "50%            6.400000        968.000000      779.700000      28.000000   \n",
       "75%           10.200000       1029.400000      824.000000      56.000000   \n",
       "max           32.200000       1145.000000      992.600000     365.000000   \n",
       "\n",
       "       Concreate compressive strength  \n",
       "count                   219076.000000  \n",
       "mean                        35.822986  \n",
       "std                         16.701170  \n",
       "min                          2.330000  \n",
       "25%                         23.700000  \n",
       "50%                         34.490000  \n",
       "75%                         46.200000  \n",
       "max                         82.600000  "
      ]
     },
     "execution_count": 5,
     "metadata": {},
     "output_type": "execute_result"
    }
   ],
   "source": [
    "df.describe()"
   ]
  },
  {
   "cell_type": "markdown",
   "id": "db6a8190",
   "metadata": {
    "scrolled": true
   },
   "source": [
    "sns.heatmap(df.corr(),annot=True,vmin=0,vmax=1)\n",
    "sns.set(rc={'figure.figsize':(20,20)})\n"
   ]
  },
  {
   "cell_type": "markdown",
   "id": "b812a21d",
   "metadata": {},
   "source": [
    "# NO MUCH CO-RELATION BETWEEN INDEPENDENT VARIABLES AND ALSO NO COLUMNS WITH STANDARD DEVIATION ZERO"
   ]
  },
  {
   "cell_type": "markdown",
   "id": "47baaa38",
   "metadata": {},
   "source": [
    "sns.pairplot(df)"
   ]
  },
  {
   "cell_type": "code",
   "execution_count": 6,
   "id": "2902e4f7",
   "metadata": {},
   "outputs": [],
   "source": [
    "from pandas_profiling import ProfileReport"
   ]
  },
  {
   "cell_type": "markdown",
   "id": "9aa13498",
   "metadata": {},
   "source": [
    "Profile=ProfileReport(df,explorative=True, dark_mode=True)\n",
    "Profile.to_file(\"output1.html\")"
   ]
  },
  {
   "cell_type": "markdown",
   "id": "8e780c54",
   "metadata": {},
   "source": [
    "sns.jointplot(data=df, x=\"Age\", y=\"Concreate compressive strength\",kind=\"reg\")\n",
    "plt.show()\n"
   ]
  },
  {
   "cell_type": "markdown",
   "id": "32357037",
   "metadata": {},
   "source": [
    "for columns in df.columns:\n",
    "    sns.boxplot(data=df, x=columns)\n",
    "    plt.show()"
   ]
  },
  {
   "cell_type": "code",
   "execution_count": 7,
   "id": "7f6db214",
   "metadata": {},
   "outputs": [
    {
     "data": {
      "text/plain": [
       "(219076, 9)"
      ]
     },
     "execution_count": 7,
     "metadata": {},
     "output_type": "execute_result"
    }
   ],
   "source": [
    "df_duplicated=df[df.duplicated()]\n",
    "df.shape"
   ]
  },
  {
   "cell_type": "code",
   "execution_count": 8,
   "id": "71c3ce4e",
   "metadata": {},
   "outputs": [
    {
     "data": {
      "text/html": [
       "<div>\n",
       "<style scoped>\n",
       "    .dataframe tbody tr th:only-of-type {\n",
       "        vertical-align: middle;\n",
       "    }\n",
       "\n",
       "    .dataframe tbody tr th {\n",
       "        vertical-align: top;\n",
       "    }\n",
       "\n",
       "    .dataframe thead th {\n",
       "        text-align: right;\n",
       "    }\n",
       "</style>\n",
       "<table border=\"1\" class=\"dataframe\">\n",
       "  <thead>\n",
       "    <tr style=\"text-align: right;\">\n",
       "      <th></th>\n",
       "      <th>cement</th>\n",
       "      <th>Blast Furnace slug</th>\n",
       "      <th>Fly Ash</th>\n",
       "      <th>Water</th>\n",
       "      <th>Superplasticizer</th>\n",
       "      <th>Coarse Aggregate</th>\n",
       "      <th>Fine Aggregate</th>\n",
       "      <th>Age</th>\n",
       "      <th>Concreate compressive strength</th>\n",
       "    </tr>\n",
       "  </thead>\n",
       "  <tbody>\n",
       "    <tr>\n",
       "      <th>1029</th>\n",
       "      <td>260.9</td>\n",
       "      <td>100.5</td>\n",
       "      <td>78.3</td>\n",
       "      <td>200.6</td>\n",
       "      <td>8.6</td>\n",
       "      <td>864.5</td>\n",
       "      <td>761.5</td>\n",
       "      <td>28.0</td>\n",
       "      <td>32.4</td>\n",
       "    </tr>\n",
       "    <tr>\n",
       "      <th>2059</th>\n",
       "      <td>260.9</td>\n",
       "      <td>100.5</td>\n",
       "      <td>78.3</td>\n",
       "      <td>200.6</td>\n",
       "      <td>8.6</td>\n",
       "      <td>864.5</td>\n",
       "      <td>761.5</td>\n",
       "      <td>28.0</td>\n",
       "      <td>32.4</td>\n",
       "    </tr>\n",
       "    <tr>\n",
       "      <th>3089</th>\n",
       "      <td>260.9</td>\n",
       "      <td>100.5</td>\n",
       "      <td>78.3</td>\n",
       "      <td>200.6</td>\n",
       "      <td>8.6</td>\n",
       "      <td>864.5</td>\n",
       "      <td>761.5</td>\n",
       "      <td>28.0</td>\n",
       "      <td>32.4</td>\n",
       "    </tr>\n",
       "    <tr>\n",
       "      <th>4119</th>\n",
       "      <td>260.9</td>\n",
       "      <td>100.5</td>\n",
       "      <td>78.3</td>\n",
       "      <td>200.6</td>\n",
       "      <td>8.6</td>\n",
       "      <td>864.5</td>\n",
       "      <td>761.5</td>\n",
       "      <td>28.0</td>\n",
       "      <td>32.4</td>\n",
       "    </tr>\n",
       "    <tr>\n",
       "      <th>5149</th>\n",
       "      <td>260.9</td>\n",
       "      <td>100.5</td>\n",
       "      <td>78.3</td>\n",
       "      <td>200.6</td>\n",
       "      <td>8.6</td>\n",
       "      <td>864.5</td>\n",
       "      <td>761.5</td>\n",
       "      <td>28.0</td>\n",
       "      <td>32.4</td>\n",
       "    </tr>\n",
       "    <tr>\n",
       "      <th>...</th>\n",
       "      <td>...</td>\n",
       "      <td>...</td>\n",
       "      <td>...</td>\n",
       "      <td>...</td>\n",
       "      <td>...</td>\n",
       "      <td>...</td>\n",
       "      <td>...</td>\n",
       "      <td>...</td>\n",
       "      <td>...</td>\n",
       "    </tr>\n",
       "    <tr>\n",
       "      <th>214955</th>\n",
       "      <td>260.9</td>\n",
       "      <td>100.5</td>\n",
       "      <td>78.3</td>\n",
       "      <td>200.6</td>\n",
       "      <td>8.6</td>\n",
       "      <td>864.5</td>\n",
       "      <td>761.5</td>\n",
       "      <td>28.0</td>\n",
       "      <td>32.4</td>\n",
       "    </tr>\n",
       "    <tr>\n",
       "      <th>215985</th>\n",
       "      <td>260.9</td>\n",
       "      <td>100.5</td>\n",
       "      <td>78.3</td>\n",
       "      <td>200.6</td>\n",
       "      <td>8.6</td>\n",
       "      <td>864.5</td>\n",
       "      <td>761.5</td>\n",
       "      <td>28.0</td>\n",
       "      <td>32.4</td>\n",
       "    </tr>\n",
       "    <tr>\n",
       "      <th>217015</th>\n",
       "      <td>260.9</td>\n",
       "      <td>100.5</td>\n",
       "      <td>78.3</td>\n",
       "      <td>200.6</td>\n",
       "      <td>8.6</td>\n",
       "      <td>864.5</td>\n",
       "      <td>761.5</td>\n",
       "      <td>28.0</td>\n",
       "      <td>32.4</td>\n",
       "    </tr>\n",
       "    <tr>\n",
       "      <th>218045</th>\n",
       "      <td>260.9</td>\n",
       "      <td>100.5</td>\n",
       "      <td>78.3</td>\n",
       "      <td>200.6</td>\n",
       "      <td>8.6</td>\n",
       "      <td>864.5</td>\n",
       "      <td>761.5</td>\n",
       "      <td>28.0</td>\n",
       "      <td>32.4</td>\n",
       "    </tr>\n",
       "    <tr>\n",
       "      <th>219075</th>\n",
       "      <td>260.9</td>\n",
       "      <td>100.5</td>\n",
       "      <td>78.3</td>\n",
       "      <td>200.6</td>\n",
       "      <td>8.6</td>\n",
       "      <td>864.5</td>\n",
       "      <td>761.5</td>\n",
       "      <td>28.0</td>\n",
       "      <td>32.4</td>\n",
       "    </tr>\n",
       "  </tbody>\n",
       "</table>\n",
       "<p>212 rows × 9 columns</p>\n",
       "</div>"
      ],
      "text/plain": [
       "        cement  Blast Furnace slug  Fly Ash  Water  Superplasticizer  \\\n",
       "1029     260.9               100.5     78.3  200.6               8.6   \n",
       "2059     260.9               100.5     78.3  200.6               8.6   \n",
       "3089     260.9               100.5     78.3  200.6               8.6   \n",
       "4119     260.9               100.5     78.3  200.6               8.6   \n",
       "5149     260.9               100.5     78.3  200.6               8.6   \n",
       "...        ...                 ...      ...    ...               ...   \n",
       "214955   260.9               100.5     78.3  200.6               8.6   \n",
       "215985   260.9               100.5     78.3  200.6               8.6   \n",
       "217015   260.9               100.5     78.3  200.6               8.6   \n",
       "218045   260.9               100.5     78.3  200.6               8.6   \n",
       "219075   260.9               100.5     78.3  200.6               8.6   \n",
       "\n",
       "        Coarse Aggregate  Fine Aggregate   Age  Concreate compressive strength  \n",
       "1029               864.5           761.5  28.0                            32.4  \n",
       "2059               864.5           761.5  28.0                            32.4  \n",
       "3089               864.5           761.5  28.0                            32.4  \n",
       "4119               864.5           761.5  28.0                            32.4  \n",
       "5149               864.5           761.5  28.0                            32.4  \n",
       "...                  ...             ...   ...                             ...  \n",
       "214955             864.5           761.5  28.0                            32.4  \n",
       "215985             864.5           761.5  28.0                            32.4  \n",
       "217015             864.5           761.5  28.0                            32.4  \n",
       "218045             864.5           761.5  28.0                            32.4  \n",
       "219075             864.5           761.5  28.0                            32.4  \n",
       "\n",
       "[212 rows x 9 columns]"
      ]
     },
     "execution_count": 8,
     "metadata": {},
     "output_type": "execute_result"
    }
   ],
   "source": [
    "df.loc[df['cement'].isin([260.9])]\n"
   ]
  },
  {
   "cell_type": "code",
   "execution_count": 9,
   "id": "69733b4d",
   "metadata": {},
   "outputs": [
    {
     "data": {
      "text/plain": [
       "['cement',\n",
       " 'Blast Furnace slug',\n",
       " 'Fly Ash',\n",
       " 'Water',\n",
       " 'Superplasticizer',\n",
       " 'Coarse Aggregate',\n",
       " 'Fine Aggregate',\n",
       " 'Age',\n",
       " 'Concreate compressive strength']"
      ]
     },
     "execution_count": 9,
     "metadata": {},
     "output_type": "execute_result"
    }
   ],
   "source": [
    "columns_lst=[]\n",
    "for columns in df.columns:\n",
    "    columns_lst.append(columns)\n",
    "columns_lst"
   ]
  },
  {
   "cell_type": "code",
   "execution_count": 10,
   "id": "4dc46566",
   "metadata": {},
   "outputs": [],
   "source": [
    "dict_null={x:df[x].isnull().sum() for x in columns_lst}"
   ]
  },
  {
   "cell_type": "code",
   "execution_count": 11,
   "id": "484a56ef",
   "metadata": {},
   "outputs": [
    {
     "data": {
      "text/plain": [
       "{'cement': 0,\n",
       " 'Blast Furnace slug': 0,\n",
       " 'Fly Ash': 0,\n",
       " 'Water': 0,\n",
       " 'Superplasticizer': 0,\n",
       " 'Coarse Aggregate': 0,\n",
       " 'Fine Aggregate': 0,\n",
       " 'Age': 0,\n",
       " 'Concreate compressive strength': 0}"
      ]
     },
     "execution_count": 11,
     "metadata": {},
     "output_type": "execute_result"
    }
   ],
   "source": [
    "dict_null"
   ]
  },
  {
   "cell_type": "code",
   "execution_count": 12,
   "id": "2f61fee7",
   "metadata": {},
   "outputs": [
    {
     "data": {
      "text/plain": [
       "[]"
      ]
     },
     "execution_count": 12,
     "metadata": {},
     "output_type": "execute_result"
    }
   ],
   "source": [
    "null_column=[]\n",
    "for column in df.columns:\n",
    "    if df[column].isnull().sum()>0:\n",
    "        null_column.append(column)\n",
    "null_column"
   ]
  },
  {
   "cell_type": "code",
   "execution_count": 13,
   "id": "441b8693",
   "metadata": {},
   "outputs": [],
   "source": [
    "df.drop_duplicates(inplace=True,keep=\"first\")"
   ]
  },
  {
   "cell_type": "code",
   "execution_count": 14,
   "id": "2372984f",
   "metadata": {},
   "outputs": [
    {
     "data": {
      "text/plain": [
       "(1005, 9)"
      ]
     },
     "execution_count": 14,
     "metadata": {},
     "output_type": "execute_result"
    }
   ],
   "source": [
    "df.shape"
   ]
  },
  {
   "cell_type": "code",
   "execution_count": 15,
   "id": "e18edefb",
   "metadata": {},
   "outputs": [],
   "source": [
    "X=df.iloc[:,:-1].values\n",
    "y=df.iloc[:,-1].values\n"
   ]
  },
  {
   "cell_type": "code",
   "execution_count": 16,
   "id": "99be784f",
   "metadata": {},
   "outputs": [
    {
     "data": {
      "text/plain": [
       "array([[1.        , 0.        , 0.        , ..., 0.69476744, 0.20572002,\n",
       "        0.07417582],\n",
       "       [1.        , 0.        , 0.        , ..., 0.73837209, 0.20572002,\n",
       "        0.07417582],\n",
       "       [0.52625571, 0.39649416, 0.        , ..., 0.38081395, 0.        ,\n",
       "        0.73901099],\n",
       "       ...,\n",
       "       [0.10616438, 0.38786867, 0.54272864, ..., 0.26569767, 0.46663322,\n",
       "        0.07417582],\n",
       "       [0.1303653 , 0.51947691, 0.        , ..., 0.54825581, 0.48896136,\n",
       "        0.07417582],\n",
       "       [0.36278539, 0.27963272, 0.39130435, ..., 0.18459302, 0.42022077,\n",
       "        0.07417582]])"
      ]
     },
     "execution_count": 16,
     "metadata": {},
     "output_type": "execute_result"
    }
   ],
   "source": [
    "from sklearn.preprocessing import MinMaxScaler\n",
    "Scaler=MinMaxScaler()\n",
    "Scaler.fit_transform(X,y)"
   ]
  },
  {
   "cell_type": "code",
   "execution_count": 17,
   "id": "f7384386",
   "metadata": {},
   "outputs": [],
   "source": [
    "from sklearn.model_selection import train_test_split\n",
    "X_train,X_test,y_train,y_test=train_test_split(X,y,test_size=0.2,random_state=42)"
   ]
  },
  {
   "cell_type": "code",
   "execution_count": 18,
   "id": "4f528d57",
   "metadata": {},
   "outputs": [],
   "source": [
    "from sklearn.metrics import r2_score\n"
   ]
  },
  {
   "cell_type": "code",
   "execution_count": 19,
   "id": "e0a45184",
   "metadata": {},
   "outputs": [
    {
     "data": {
      "text/plain": [
       "0.5801703029028777"
      ]
     },
     "execution_count": 19,
     "metadata": {},
     "output_type": "execute_result"
    }
   ],
   "source": [
    "from sklearn.linear_model import LinearRegression\n",
    "Lin_regressor=LinearRegression()\n",
    "Lin_regressor=Lin_regressor.fit(X_train,y_train)\n",
    "y_pred=Lin_regressor.predict(X_test)\n",
    "\n",
    "score_pred=r2_score(y_test,y_pred)\n",
    "score_pred\n"
   ]
  },
  {
   "cell_type": "code",
   "execution_count": null,
   "id": "105e4398",
   "metadata": {},
   "outputs": [],
   "source": []
  },
  {
   "cell_type": "code",
   "execution_count": 20,
   "id": "80895068",
   "metadata": {},
   "outputs": [
    {
     "data": {
      "text/plain": [
       "(0.9228795091853591, 0.8727451895023673)"
      ]
     },
     "execution_count": 20,
     "metadata": {},
     "output_type": "execute_result"
    }
   ],
   "source": [
    "from sklearn.preprocessing import PolynomialFeatures\n",
    "Poly=PolynomialFeatures(degree=3)\n",
    "X_poly=Poly.fit_transform(X_train)\n",
    "X_poly_test=Poly.fit_transform(X_test)\n",
    "Poly_regressor=LinearRegression()\n",
    "Poly_regressor=Poly_regressor.fit(X_poly,y_train)\n",
    "y_pred=Poly_regressor.predict(X_poly_test)\n",
    "\n",
    "score_pred1=r2_score(y_test,y_pred)\n",
    "score_pred1\n",
    "score_pred2=r2_score(y_train,Poly_regressor.predict(X_poly))\n",
    "score_pred2,score_pred1"
   ]
  },
  {
   "cell_type": "code",
   "execution_count": 21,
   "id": "9629822d",
   "metadata": {},
   "outputs": [],
   "source": [
    "from sklearn.svm import SVR\n",
    "from sklearn.model_selection import GridSearchCV,RandomizedSearchCV"
   ]
  },
  {
   "cell_type": "markdown",
   "id": "c96ce178",
   "metadata": {},
   "source": [
    "param_grid_SVR = {\n",
    "            'kernel': ['linear', 'poly', 'rbf', 'sigmoid'],\n",
    "            'degree': [3,4, 5,],\n",
    "            'gamma': [1e-4, 1e-3, 0.01, 0.1, 0.2, 0.5, 0.6, 0.9], 'C': [1, 10, 100, 1000, 10000]\n",
    "        }\n",
    "grid=GridSearchCV(SVR(),param_grid_SVR,verbose=3,cv=2)\n",
    "grid.fit(X_train,y_train)\n",
    "kernel=grid.best_params_[\"kernel\"]\n",
    "degree=grid.best_params_[\"degree\"]\n",
    "gamma=grid.best_params_[\"gamma\"]\n",
    "C=grid.best_params_[\"C\"]\n",
    "SVR=SVR(kernel=kernel,degree=degree,gamma=gamma,C=C)\n",
    "print(grid.best_params_)"
   ]
  },
  {
   "cell_type": "markdown",
   "id": "cd4a6eea",
   "metadata": {},
   "source": [
    "rnd_search = RandomizedSearchCV(SVR(), param_grid_SVR,verbose=3,cv=5)\n",
    "rnd_search.fit(X_train,y_train)\n",
    "rnd_search.best_params_"
   ]
  },
  {
   "cell_type": "code",
   "execution_count": 22,
   "id": "eb1a47f2",
   "metadata": {},
   "outputs": [
    {
     "data": {
      "text/plain": [
       "array([ 1.,  2.,  3.,  4.,  5.,  6.,  7.,  8.,  9., 10., 11., 12., 13.,\n",
       "       14., 15., 16., 17., 18., 19., 20., 21., 22., 23., 24., 25., 26.,\n",
       "       27., 28., 29., 30., 31., 32.])"
      ]
     },
     "execution_count": 22,
     "metadata": {},
     "output_type": "execute_result"
    }
   ],
   "source": [
    "np.linspace(1, 32, 32, endpoint=True)"
   ]
  },
  {
   "cell_type": "code",
   "execution_count": 23,
   "id": "9e26d707",
   "metadata": {},
   "outputs": [],
   "source": [
    "from sklearn.ensemble import RandomForestRegressor"
   ]
  },
  {
   "cell_type": "code",
   "execution_count": 24,
   "id": "f4026590",
   "metadata": {},
   "outputs": [
    {
     "data": {
      "text/plain": [
       "(0.9832791763975851, 0.9103622615800882)"
      ]
     },
     "execution_count": 24,
     "metadata": {},
     "output_type": "execute_result"
    }
   ],
   "source": [
    "regressor=RandomForestRegressor()\n",
    "regressor.fit(X_train,y_train)\n",
    "y_pred=regressor.predict(X_test)\n",
    "acc1=r2_score(y_train,regressor.predict(X_train))\n",
    "acc2=r2_score(y_test,y_pred)\n",
    "acc1,acc2"
   ]
  },
  {
   "cell_type": "code",
   "execution_count": 25,
   "id": "c480e72f",
   "metadata": {},
   "outputs": [],
   "source": [
    "def Corr_threshold(data,threshold):\n",
    "    col_corr=set()\n",
    "    corr_matrix=data.corr()\n",
    "    for i in range(len(corr_matrix.columns)):\n",
    "        for j in range(i):\n",
    "            if abs(corr_matrix.iloc[i,j])>threshold:\n",
    "                col_name=corr_matrix.columns[i]\n",
    "                col_corr.add(col_name)\n",
    "        return col_corr"
   ]
  },
  {
   "cell_type": "raw",
   "id": "3010b626",
   "metadata": {},
   "source": [
    "\n"
   ]
  },
  {
   "cell_type": "code",
   "execution_count": 26,
   "id": "a844b13d",
   "metadata": {},
   "outputs": [
    {
     "data": {
      "text/plain": [
       "set()"
      ]
     },
     "execution_count": 26,
     "metadata": {},
     "output_type": "execute_result"
    }
   ],
   "source": [
    "col=Corr_threshold(df,0.1)\n",
    "col"
   ]
  },
  {
   "cell_type": "code",
   "execution_count": 27,
   "id": "b0236c87",
   "metadata": {},
   "outputs": [
    {
     "data": {
      "text/plain": [
       "9"
      ]
     },
     "execution_count": 27,
     "metadata": {},
     "output_type": "execute_result"
    }
   ],
   "source": [
    "len(df.corr().columns)"
   ]
  },
  {
   "cell_type": "code",
   "execution_count": 28,
   "id": "c5ae2d23",
   "metadata": {},
   "outputs": [],
   "source": [
    "col_corr=set()\n",
    "corr_matrix=df.corr()\n",
    "for i in range(len(corr_matrix.columns)):\n",
    "    for j in range(i):\n",
    "        if abs(corr_matrix.iloc[i,j])>0.4:\n",
    "            col_name=corr_matrix.columns[i]\n",
    "            col_corr.add(col_name)\n",
    "            "
   ]
  },
  {
   "cell_type": "code",
   "execution_count": 29,
   "id": "6e62ee9f",
   "metadata": {},
   "outputs": [],
   "source": [
    "col=list[col_corr]"
   ]
  },
  {
   "cell_type": "code",
   "execution_count": 30,
   "id": "057918d9",
   "metadata": {},
   "outputs": [
    {
     "name": "stdout",
     "output_type": "stream",
     "text": [
      "Concreate compressive strength\n",
      "Superplasticizer\n",
      "Fine Aggregate\n"
     ]
    }
   ],
   "source": [
    "for i in col_corr:\n",
    "    print(i)"
   ]
  },
  {
   "cell_type": "code",
   "execution_count": 31,
   "id": "f0fe2b61",
   "metadata": {
    "scrolled": true
   },
   "outputs": [
    {
     "data": {
      "text/html": [
       "<div>\n",
       "<style scoped>\n",
       "    .dataframe tbody tr th:only-of-type {\n",
       "        vertical-align: middle;\n",
       "    }\n",
       "\n",
       "    .dataframe tbody tr th {\n",
       "        vertical-align: top;\n",
       "    }\n",
       "\n",
       "    .dataframe thead th {\n",
       "        text-align: right;\n",
       "    }\n",
       "</style>\n",
       "<table border=\"1\" class=\"dataframe\">\n",
       "  <thead>\n",
       "    <tr style=\"text-align: right;\">\n",
       "      <th></th>\n",
       "      <th>Unnamed: 0</th>\n",
       "      <th>Cement (component 1)(kg in a m^3 mixture)</th>\n",
       "      <th>Blast Furnace Slag (component 2)(kg in a m^3 mixture)</th>\n",
       "      <th>Fly Ash (component 3)(kg in a m^3 mixture)</th>\n",
       "      <th>Water  (component 4)(kg in a m^3 mixture)</th>\n",
       "      <th>Superplasticizer (component 5)(kg in a m^3 mixture)</th>\n",
       "      <th>Coarse Aggregate  (component 6)(kg in a m^3 mixture)</th>\n",
       "      <th>Fine Aggregate (component 7)(kg in a m^3 mixture)</th>\n",
       "      <th>Age (day)</th>\n",
       "      <th>Concrete compressive strength(MPa, megapascals)</th>\n",
       "      <th>cluster</th>\n",
       "      <th>Unnamed: 0.1</th>\n",
       "      <th>Unnamed: 0.1.1</th>\n",
       "      <th>Predict</th>\n",
       "      <th>diff</th>\n",
       "    </tr>\n",
       "  </thead>\n",
       "  <tbody>\n",
       "    <tr>\n",
       "      <th>0</th>\n",
       "      <td>0</td>\n",
       "      <td>540.0</td>\n",
       "      <td>0.0</td>\n",
       "      <td>0.0</td>\n",
       "      <td>162.0</td>\n",
       "      <td>2.5</td>\n",
       "      <td>1040.0</td>\n",
       "      <td>676.0</td>\n",
       "      <td>28.0</td>\n",
       "      <td>79.99</td>\n",
       "      <td>0</td>\n",
       "      <td>0</td>\n",
       "      <td>0</td>\n",
       "      <td>76.581340</td>\n",
       "      <td>-3.408660</td>\n",
       "    </tr>\n",
       "    <tr>\n",
       "      <th>1</th>\n",
       "      <td>1</td>\n",
       "      <td>540.0</td>\n",
       "      <td>0.0</td>\n",
       "      <td>0.0</td>\n",
       "      <td>162.0</td>\n",
       "      <td>2.5</td>\n",
       "      <td>1055.0</td>\n",
       "      <td>676.0</td>\n",
       "      <td>28.0</td>\n",
       "      <td>61.89</td>\n",
       "      <td>0</td>\n",
       "      <td>1</td>\n",
       "      <td>1</td>\n",
       "      <td>62.253002</td>\n",
       "      <td>0.363002</td>\n",
       "    </tr>\n",
       "    <tr>\n",
       "      <th>2</th>\n",
       "      <td>2</td>\n",
       "      <td>332.5</td>\n",
       "      <td>142.5</td>\n",
       "      <td>0.0</td>\n",
       "      <td>228.0</td>\n",
       "      <td>0.0</td>\n",
       "      <td>932.0</td>\n",
       "      <td>594.0</td>\n",
       "      <td>270.0</td>\n",
       "      <td>40.27</td>\n",
       "      <td>0</td>\n",
       "      <td>2</td>\n",
       "      <td>2</td>\n",
       "      <td>39.929085</td>\n",
       "      <td>-0.340915</td>\n",
       "    </tr>\n",
       "    <tr>\n",
       "      <th>3</th>\n",
       "      <td>3</td>\n",
       "      <td>332.5</td>\n",
       "      <td>142.5</td>\n",
       "      <td>0.0</td>\n",
       "      <td>228.0</td>\n",
       "      <td>0.0</td>\n",
       "      <td>932.0</td>\n",
       "      <td>594.0</td>\n",
       "      <td>365.0</td>\n",
       "      <td>41.05</td>\n",
       "      <td>0</td>\n",
       "      <td>3</td>\n",
       "      <td>3</td>\n",
       "      <td>39.929085</td>\n",
       "      <td>-1.120915</td>\n",
       "    </tr>\n",
       "    <tr>\n",
       "      <th>4</th>\n",
       "      <td>4</td>\n",
       "      <td>198.6</td>\n",
       "      <td>132.4</td>\n",
       "      <td>0.0</td>\n",
       "      <td>192.0</td>\n",
       "      <td>0.0</td>\n",
       "      <td>978.4</td>\n",
       "      <td>825.5</td>\n",
       "      <td>360.0</td>\n",
       "      <td>44.30</td>\n",
       "      <td>2</td>\n",
       "      <td>0</td>\n",
       "      <td>4</td>\n",
       "      <td>43.749588</td>\n",
       "      <td>-0.550412</td>\n",
       "    </tr>\n",
       "    <tr>\n",
       "      <th>...</th>\n",
       "      <td>...</td>\n",
       "      <td>...</td>\n",
       "      <td>...</td>\n",
       "      <td>...</td>\n",
       "      <td>...</td>\n",
       "      <td>...</td>\n",
       "      <td>...</td>\n",
       "      <td>...</td>\n",
       "      <td>...</td>\n",
       "      <td>...</td>\n",
       "      <td>...</td>\n",
       "      <td>...</td>\n",
       "      <td>...</td>\n",
       "      <td>...</td>\n",
       "      <td>...</td>\n",
       "    </tr>\n",
       "    <tr>\n",
       "      <th>115</th>\n",
       "      <td>115</td>\n",
       "      <td>531.3</td>\n",
       "      <td>0.0</td>\n",
       "      <td>0.0</td>\n",
       "      <td>141.8</td>\n",
       "      <td>28.2</td>\n",
       "      <td>852.1</td>\n",
       "      <td>893.7</td>\n",
       "      <td>28.0</td>\n",
       "      <td>56.40</td>\n",
       "      <td>0</td>\n",
       "      <td>67</td>\n",
       "      <td>115</td>\n",
       "      <td>56.125988</td>\n",
       "      <td>-0.274012</td>\n",
       "    </tr>\n",
       "    <tr>\n",
       "      <th>116</th>\n",
       "      <td>116</td>\n",
       "      <td>318.8</td>\n",
       "      <td>212.5</td>\n",
       "      <td>0.0</td>\n",
       "      <td>155.7</td>\n",
       "      <td>14.3</td>\n",
       "      <td>852.1</td>\n",
       "      <td>880.4</td>\n",
       "      <td>28.0</td>\n",
       "      <td>55.50</td>\n",
       "      <td>2</td>\n",
       "      <td>48</td>\n",
       "      <td>116</td>\n",
       "      <td>55.359390</td>\n",
       "      <td>-0.140610</td>\n",
       "    </tr>\n",
       "    <tr>\n",
       "      <th>117</th>\n",
       "      <td>117</td>\n",
       "      <td>401.8</td>\n",
       "      <td>94.7</td>\n",
       "      <td>0.0</td>\n",
       "      <td>147.4</td>\n",
       "      <td>11.4</td>\n",
       "      <td>946.8</td>\n",
       "      <td>852.1</td>\n",
       "      <td>28.0</td>\n",
       "      <td>68.50</td>\n",
       "      <td>0</td>\n",
       "      <td>68</td>\n",
       "      <td>117</td>\n",
       "      <td>68.549934</td>\n",
       "      <td>0.049934</td>\n",
       "    </tr>\n",
       "    <tr>\n",
       "      <th>118</th>\n",
       "      <td>118</td>\n",
       "      <td>362.6</td>\n",
       "      <td>189.0</td>\n",
       "      <td>0.0</td>\n",
       "      <td>164.9</td>\n",
       "      <td>11.6</td>\n",
       "      <td>944.7</td>\n",
       "      <td>755.8</td>\n",
       "      <td>28.0</td>\n",
       "      <td>71.30</td>\n",
       "      <td>2</td>\n",
       "      <td>49</td>\n",
       "      <td>118</td>\n",
       "      <td>71.467606</td>\n",
       "      <td>0.167606</td>\n",
       "    </tr>\n",
       "    <tr>\n",
       "      <th>119</th>\n",
       "      <td>119</td>\n",
       "      <td>323.7</td>\n",
       "      <td>282.8</td>\n",
       "      <td>0.0</td>\n",
       "      <td>183.8</td>\n",
       "      <td>10.3</td>\n",
       "      <td>942.7</td>\n",
       "      <td>659.9</td>\n",
       "      <td>28.0</td>\n",
       "      <td>74.70</td>\n",
       "      <td>2</td>\n",
       "      <td>50</td>\n",
       "      <td>119</td>\n",
       "      <td>70.205260</td>\n",
       "      <td>-4.494740</td>\n",
       "    </tr>\n",
       "  </tbody>\n",
       "</table>\n",
       "<p>120 rows × 15 columns</p>\n",
       "</div>"
      ],
      "text/plain": [
       "     Unnamed: 0  Cement (component 1)(kg in a m^3 mixture)  \\\n",
       "0             0                                      540.0   \n",
       "1             1                                      540.0   \n",
       "2             2                                      332.5   \n",
       "3             3                                      332.5   \n",
       "4             4                                      198.6   \n",
       "..          ...                                        ...   \n",
       "115         115                                      531.3   \n",
       "116         116                                      318.8   \n",
       "117         117                                      401.8   \n",
       "118         118                                      362.6   \n",
       "119         119                                      323.7   \n",
       "\n",
       "     Blast Furnace Slag (component 2)(kg in a m^3 mixture)  \\\n",
       "0                                                  0.0       \n",
       "1                                                  0.0       \n",
       "2                                                142.5       \n",
       "3                                                142.5       \n",
       "4                                                132.4       \n",
       "..                                                 ...       \n",
       "115                                                0.0       \n",
       "116                                              212.5       \n",
       "117                                               94.7       \n",
       "118                                              189.0       \n",
       "119                                              282.8       \n",
       "\n",
       "     Fly Ash (component 3)(kg in a m^3 mixture)  \\\n",
       "0                                           0.0   \n",
       "1                                           0.0   \n",
       "2                                           0.0   \n",
       "3                                           0.0   \n",
       "4                                           0.0   \n",
       "..                                          ...   \n",
       "115                                         0.0   \n",
       "116                                         0.0   \n",
       "117                                         0.0   \n",
       "118                                         0.0   \n",
       "119                                         0.0   \n",
       "\n",
       "     Water  (component 4)(kg in a m^3 mixture)  \\\n",
       "0                                        162.0   \n",
       "1                                        162.0   \n",
       "2                                        228.0   \n",
       "3                                        228.0   \n",
       "4                                        192.0   \n",
       "..                                         ...   \n",
       "115                                      141.8   \n",
       "116                                      155.7   \n",
       "117                                      147.4   \n",
       "118                                      164.9   \n",
       "119                                      183.8   \n",
       "\n",
       "     Superplasticizer (component 5)(kg in a m^3 mixture)  \\\n",
       "0                                                  2.5     \n",
       "1                                                  2.5     \n",
       "2                                                  0.0     \n",
       "3                                                  0.0     \n",
       "4                                                  0.0     \n",
       "..                                                 ...     \n",
       "115                                               28.2     \n",
       "116                                               14.3     \n",
       "117                                               11.4     \n",
       "118                                               11.6     \n",
       "119                                               10.3     \n",
       "\n",
       "     Coarse Aggregate  (component 6)(kg in a m^3 mixture)  \\\n",
       "0                                               1040.0      \n",
       "1                                               1055.0      \n",
       "2                                                932.0      \n",
       "3                                                932.0      \n",
       "4                                                978.4      \n",
       "..                                                 ...      \n",
       "115                                              852.1      \n",
       "116                                              852.1      \n",
       "117                                              946.8      \n",
       "118                                              944.7      \n",
       "119                                              942.7      \n",
       "\n",
       "     Fine Aggregate (component 7)(kg in a m^3 mixture)  Age (day)  \\\n",
       "0                                                676.0       28.0   \n",
       "1                                                676.0       28.0   \n",
       "2                                                594.0      270.0   \n",
       "3                                                594.0      365.0   \n",
       "4                                                825.5      360.0   \n",
       "..                                                 ...        ...   \n",
       "115                                              893.7       28.0   \n",
       "116                                              880.4       28.0   \n",
       "117                                              852.1       28.0   \n",
       "118                                              755.8       28.0   \n",
       "119                                              659.9       28.0   \n",
       "\n",
       "     Concrete compressive strength(MPa, megapascals)   cluster  Unnamed: 0.1  \\\n",
       "0                                               79.99        0             0   \n",
       "1                                               61.89        0             1   \n",
       "2                                               40.27        0             2   \n",
       "3                                               41.05        0             3   \n",
       "4                                               44.30        2             0   \n",
       "..                                                ...      ...           ...   \n",
       "115                                             56.40        0            67   \n",
       "116                                             55.50        2            48   \n",
       "117                                             68.50        0            68   \n",
       "118                                             71.30        2            49   \n",
       "119                                             74.70        2            50   \n",
       "\n",
       "     Unnamed: 0.1.1    Predict      diff  \n",
       "0                 0  76.581340 -3.408660  \n",
       "1                 1  62.253002  0.363002  \n",
       "2                 2  39.929085 -0.340915  \n",
       "3                 3  39.929085 -1.120915  \n",
       "4                 4  43.749588 -0.550412  \n",
       "..              ...        ...       ...  \n",
       "115             115  56.125988 -0.274012  \n",
       "116             116  55.359390 -0.140610  \n",
       "117             117  68.549934  0.049934  \n",
       "118             118  71.467606  0.167606  \n",
       "119             119  70.205260 -4.494740  \n",
       "\n",
       "[120 rows x 15 columns]"
      ]
     },
     "execution_count": 31,
     "metadata": {},
     "output_type": "execute_result"
    }
   ],
   "source": [
    "df=pd.read_csv(r\"D:\\NEW\\pro\\code\\CEMENT_STRENGTH\\Models\\Output_csv\")\n",
    "\n",
    "df.drop(['Unnamed: 0.1', 'Unnamed: 0.1.1','Unnamed: 0'],axis=1)\n",
    "\n",
    "df[\"diff\"]=df[\"Predict\"]-df['Concrete compressive strength(MPa, megapascals) ']\n",
    "df.head(120)"
   ]
  },
  {
   "cell_type": "code",
   "execution_count": null,
   "id": "d216f9d9",
   "metadata": {},
   "outputs": [],
   "source": []
  },
  {
   "cell_type": "code",
   "execution_count": null,
   "id": "66303a1b",
   "metadata": {},
   "outputs": [],
   "source": []
  },
  {
   "cell_type": "code",
   "execution_count": null,
   "id": "2dcfd940",
   "metadata": {},
   "outputs": [],
   "source": []
  },
  {
   "cell_type": "code",
   "execution_count": null,
   "id": "4454e283",
   "metadata": {},
   "outputs": [],
   "source": []
  }
 ],
 "metadata": {
  "kernelspec": {
   "display_name": "Python 3 (ipykernel)",
   "language": "python",
   "name": "python3"
  },
  "language_info": {
   "codemirror_mode": {
    "name": "ipython",
    "version": 3
   },
   "file_extension": ".py",
   "mimetype": "text/x-python",
   "name": "python",
   "nbconvert_exporter": "python",
   "pygments_lexer": "ipython3",
   "version": "3.9.7"
  }
 },
 "nbformat": 4,
 "nbformat_minor": 5
}
